{
 "cells": [
  {
   "cell_type": "code",
   "execution_count": 1,
   "id": "ff754203-ab62-4478-8c98-10b6b0a76f35",
   "metadata": {},
   "outputs": [
    {
     "name": "stdout",
     "output_type": "stream",
     "text": [
      "Defaulting to user installation because normal site-packages is not writeable\n",
      "Requirement already satisfied: pyttsx3 in c:\\users\\anushka tiwari\\appdata\\roaming\\python\\python312\\site-packages (2.90)\n",
      "Requirement already satisfied: comtypes in c:\\users\\anushka tiwari\\appdata\\roaming\\python\\python312\\site-packages (from pyttsx3) (1.4.5)\n",
      "Requirement already satisfied: pypiwin32 in c:\\users\\anushka tiwari\\appdata\\roaming\\python\\python312\\site-packages (from pyttsx3) (223)\n",
      "Requirement already satisfied: pywin32 in c:\\programdata\\anaconda3\\lib\\site-packages (from pyttsx3) (305.1)\n",
      "Note: you may need to restart the kernel to use updated packages.\n"
     ]
    }
   ],
   "source": [
    "pip install pyttsx3"
   ]
  },
  {
   "cell_type": "code",
   "execution_count": 2,
   "id": "264a1cc3-ab23-431e-84a5-f69f4bfa0b3d",
   "metadata": {},
   "outputs": [
    {
     "name": "stdout",
     "output_type": "stream",
     "text": [
      "Defaulting to user installation because normal site-packages is not writeable\n",
      "Requirement already satisfied: gTTS in c:\\users\\anushka tiwari\\appdata\\roaming\\python\\python312\\site-packages (2.5.2)\n",
      "Requirement already satisfied: requests<3,>=2.27 in c:\\programdata\\anaconda3\\lib\\site-packages (from gTTS) (2.32.2)\n",
      "Requirement already satisfied: click<8.2,>=7.1 in c:\\programdata\\anaconda3\\lib\\site-packages (from gTTS) (8.1.7)\n",
      "Requirement already satisfied: colorama in c:\\programdata\\anaconda3\\lib\\site-packages (from click<8.2,>=7.1->gTTS) (0.4.6)\n",
      "Requirement already satisfied: charset-normalizer<4,>=2 in c:\\programdata\\anaconda3\\lib\\site-packages (from requests<3,>=2.27->gTTS) (2.0.4)\n",
      "Requirement already satisfied: idna<4,>=2.5 in c:\\programdata\\anaconda3\\lib\\site-packages (from requests<3,>=2.27->gTTS) (3.7)\n",
      "Requirement already satisfied: urllib3<3,>=1.21.1 in c:\\programdata\\anaconda3\\lib\\site-packages (from requests<3,>=2.27->gTTS) (2.2.2)\n",
      "Requirement already satisfied: certifi>=2017.4.17 in c:\\programdata\\anaconda3\\lib\\site-packages (from requests<3,>=2.27->gTTS) (2024.6.2)\n",
      "Note: you may need to restart the kernel to use updated packages.\n"
     ]
    }
   ],
   "source": [
    "pip install gTTS"
   ]
  },
  {
   "cell_type": "code",
   "execution_count": 3,
   "id": "8a53bb59-dd2f-420c-8801-0c710d32565e",
   "metadata": {},
   "outputs": [
    {
     "name": "stdout",
     "output_type": "stream",
     "text": [
      "Defaulting to user installation because normal site-packages is not writeable\n",
      "Requirement already satisfied: playsound in c:\\users\\anushka tiwari\\appdata\\roaming\\python\\python312\\site-packages (1.3.0)\n",
      "Note: you may need to restart the kernel to use updated packages.\n"
     ]
    }
   ],
   "source": [
    "pip install playsound"
   ]
  },
  {
   "cell_type": "code",
   "execution_count": 4,
   "id": "22495f02-3003-45a5-bd2a-0db1b05b86f7",
   "metadata": {},
   "outputs": [],
   "source": [
    "import tkinter as tk\n",
    "from tkinter import *\n",
    "from tkinter import filedialog\n",
    "from tkinter.ttk import Combobox\n",
    "import pyttsx3\n",
    "import os\n",
    "from gtts import gTTS\n",
    "from playsound import playsound"
   ]
  },
  {
   "cell_type": "code",
   "execution_count": 5,
   "id": "b009a92a-27ad-4316-80ce-c7bfdb42c306",
   "metadata": {},
   "outputs": [],
   "source": [
    "root = Tk()\n",
    "root.title(\"Text to Speech Converter\")\n",
    "root.geometry(\"1000x580+200+80\")\n",
    "root.resizable(True, True)\n",
    "root.configure(bg=\"#F7AC40\")\n",
    "#root.mainloop()"
   ]
  },
  {
   "cell_type": "code",
   "execution_count": 6,
   "id": "fb76a1d6-559b-4f4d-9010-5cc9448baf41",
   "metadata": {},
   "outputs": [],
   "source": [
    "tts = pyttsx3.init()\n",
    "def speaknow():\n",
    "    text = text_box.get(1.0,END)\n",
    "    gender = gender_box.get()\n",
    "    speed = speed_box.get()\n",
    "    voices = tts.getProperty('voices')\n",
    "    def setvoice():\n",
    "        if(gender == 'Male'):\n",
    "            tts.setProperty('voice', voices[0].id)\n",
    "            tts.say(text)\n",
    "            tts.runAndWait()\n",
    "        else:\n",
    "            tts.setProperty('voice', voices[1].id)\n",
    "            tts.say(text)\n",
    "            tts.runAndWait()\n",
    "    if(text):\n",
    "        if(speed == 'Fast'):\n",
    "            tts.setProperty('rate', 250)\n",
    "            setvoice()\n",
    "        elif(speed == 'Medium'):\n",
    "            tts.setProperty('rate', 150)\n",
    "            setvoice()\n",
    "        else:\n",
    "            tts.setProperty('rate', 60)\n",
    "            setvoice()"
   ]
  },
  {
   "cell_type": "code",
   "execution_count": 7,
   "id": "1bdbfd46-a2dd-4af7-b827-4db0bf71942c",
   "metadata": {},
   "outputs": [],
   "source": [
    "simpli_logo = PhotoImage(file=\"C:/Users/Anushka Tiwari/Downloads/logo.png\")\n",
    "Label(root, image = simpli_logo, bg=\"#F7AC40\").place(x=880,y=539)\n",
    "#root.mainloop()"
   ]
  },
  {
   "cell_type": "code",
   "execution_count": 8,
   "id": "54814860-5507-4db0-b113-63482ed3be82",
   "metadata": {},
   "outputs": [],
   "source": [
    "logo_image = PhotoImage(file=\"C:/Users/Anushka Tiwari/Downloads/logo1.png\")\n",
    "root.iconphoto(False, logo_image)\n",
    "#root.mainloop()"
   ]
  },
  {
   "cell_type": "code",
   "execution_count": 9,
   "id": "f885ebc4-75aa-4669-9891-c8dde5f1ace4",
   "metadata": {},
   "outputs": [],
   "source": [
    "text_box=Text(root, font=\"calibro 20\", bg=\"White\", relief= GROOVE, wrap=WORD, bd=0)\n",
    "text_box.place(x=30, y=150, width = 940, height = 180)\n",
    "#root.mainloop()"
   ]
  },
  {
   "cell_type": "code",
   "execution_count": 10,
   "id": "27167924-5a59-4159-ba68-21bfce945e4a",
   "metadata": {},
   "outputs": [],
   "source": [
    "gender_box = Combobox(root, values=['Male','Female'], font = \"Robote 12\", state='r', width=12)\n",
    "gender_box.place(x = 340, y=400)\n",
    "gender_box.set('Male')\n",
    "#root.mainloop()"
   ]
  },
  {
   "cell_type": "code",
   "execution_count": 11,
   "id": "10bc3e81-c6a9-4b4a-9010-ae0029c346ca",
   "metadata": {},
   "outputs": [],
   "source": [
    "speed_box = Combobox(root, values=['Fast','Medium','Slow'], font = \"Robote 12\", state='r', width=12)\n",
    "speed_box.place(x = 540, y=400)\n",
    "speed_box.set('Medium')"
   ]
  },
  {
   "cell_type": "code",
   "execution_count": 12,
   "id": "40c463ad-7803-4bc4-825b-1ad1776882fa",
   "metadata": {},
   "outputs": [],
   "source": [
    "Label(root, text=\"Select Voice\", font = 'TimesNewRoman 40 bold', bg = \"#F7AC40\", fg=\"White\").place(x=200,y=70)\n",
    "Label(root, text=\"Select Speed\", font = 'TimesNewRoman 40 bold', bg = \"#F7AC40\", fg=\"White\").place(x=600,y=70)\n",
    "#root.mainloop()"
   ]
  },
  {
   "cell_type": "code",
   "execution_count": null,
   "id": "bcc795c4-59ca-4582-bff8-101bf642bf42",
   "metadata": {},
   "outputs": [],
   "source": [
    "play_btn = Button(root, text=\"Play\", compound = LEFT, bg = 'White', width = 10, font=\"arial 14 bold\", borderwidth = '0.1c', command = speaknow)\n",
    "play_btn.place(x=225,y=450)\n",
    "root.mainloop()"
   ]
  },
  {
   "cell_type": "code",
   "execution_count": null,
   "id": "96067470-6686-4a7c-afb3-64aa84f514e1",
   "metadata": {},
   "outputs": [],
   "source": []
  },
  {
   "cell_type": "code",
   "execution_count": null,
   "id": "47882356-ef48-4f61-86f4-7054b3ff3934",
   "metadata": {},
   "outputs": [],
   "source": []
  }
 ],
 "metadata": {
  "kernelspec": {
   "display_name": "Python 3 (ipykernel)",
   "language": "python",
   "name": "python3"
  },
  "language_info": {
   "codemirror_mode": {
    "name": "ipython",
    "version": 3
   },
   "file_extension": ".py",
   "mimetype": "text/x-python",
   "name": "python",
   "nbconvert_exporter": "python",
   "pygments_lexer": "ipython3",
   "version": "3.12.4"
  }
 },
 "nbformat": 4,
 "nbformat_minor": 5
}
